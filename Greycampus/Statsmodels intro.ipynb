{
 "cells": [
  {
   "cell_type": "markdown",
   "metadata": {},
   "source": [
    "Statsmodels intro \n",
    "https://www.statsmodels.org/stable/index.html"
   ]
  },
  {
   "cell_type": "code",
   "execution_count": 1,
   "metadata": {},
   "outputs": [
    {
     "name": "stderr",
     "output_type": "stream",
     "text": [
      "C:\\Users\\Anthony\\Anaconda3\\lib\\site-packages\\statsmodels\\tools\\_testing.py:19: FutureWarning: pandas.util.testing is deprecated. Use the functions in the public API at pandas.testing instead.\n",
      "  import pandas.util.testing as tm\n"
     ]
    }
   ],
   "source": [
    "import numpy as np\n",
    "import statsmodels.api as sm"
   ]
  },
  {
   "cell_type": "code",
   "execution_count": 2,
   "metadata": {},
   "outputs": [],
   "source": [
    "# number of observations to create in Numpy random method\n",
    "nobs = 100"
   ]
  },
  {
   "cell_type": "code",
   "execution_count": 3,
   "metadata": {},
   "outputs": [],
   "source": [
    "# create an array of random numbers in a \"continuous uniform\" distribution, using \"nobs\" as \n",
    "# the number of rows & \"2\" as the number of columns\n",
    "\n",
    "X = np.random.random((nobs, 2))"
   ]
  },
  {
   "cell_type": "code",
   "execution_count": 4,
   "metadata": {},
   "outputs": [
    {
     "data": {
      "text/plain": [
       "array([[0.01611702, 0.38819146],\n",
       "       [0.98175279, 0.02093247],\n",
       "       [0.81258251, 0.85303332],\n",
       "       [0.58442998, 0.77340287],\n",
       "       [0.05068709, 0.75980176],\n",
       "       [0.12708844, 0.66685625],\n",
       "       [0.90971642, 0.03556152],\n",
       "       [0.99971082, 0.58814051],\n",
       "       [0.70356   , 0.64846739],\n",
       "       [0.77280896, 0.87775912],\n",
       "       [0.49015634, 0.21110706],\n",
       "       [0.90708719, 0.61837234],\n",
       "       [0.46189943, 0.83719898],\n",
       "       [0.91434979, 0.09166211],\n",
       "       [0.51975257, 0.59841832],\n",
       "       [0.42998995, 0.1881492 ],\n",
       "       [0.49658006, 0.80178433],\n",
       "       [0.66834722, 0.14260972],\n",
       "       [0.33891063, 0.62343314],\n",
       "       [0.49253539, 0.58726822],\n",
       "       [0.19832441, 0.61791781],\n",
       "       [0.67885289, 0.75258677],\n",
       "       [0.40719566, 0.00127332],\n",
       "       [0.92644855, 0.33180524],\n",
       "       [0.99164811, 0.01770363],\n",
       "       [0.7355657 , 0.86280298],\n",
       "       [0.51608221, 0.30481661],\n",
       "       [0.17338203, 0.74986422],\n",
       "       [0.39733545, 0.3801625 ],\n",
       "       [0.14377685, 0.95248585],\n",
       "       [0.0420544 , 0.04335283],\n",
       "       [0.80135023, 0.27270612],\n",
       "       [0.67594247, 0.90819714],\n",
       "       [0.54229381, 0.74926399],\n",
       "       [0.00282382, 0.88298352],\n",
       "       [0.70645445, 0.73150886],\n",
       "       [0.16690664, 0.72301031],\n",
       "       [0.3964912 , 0.69031618],\n",
       "       [0.98813307, 0.57086451],\n",
       "       [0.81761478, 0.70397192],\n",
       "       [0.28587517, 0.12738635],\n",
       "       [0.56228048, 0.39923928],\n",
       "       [0.21979122, 0.5221849 ],\n",
       "       [0.07618741, 0.67166397],\n",
       "       [0.29865282, 0.41743474],\n",
       "       [0.39002868, 0.52646036],\n",
       "       [0.22703475, 0.4615452 ],\n",
       "       [0.18125583, 0.81515424],\n",
       "       [0.89746265, 0.26801312],\n",
       "       [0.9316137 , 0.78454703],\n",
       "       [0.89504698, 0.46942088],\n",
       "       [0.72226635, 0.75448788],\n",
       "       [0.95131061, 0.13282458],\n",
       "       [0.47375359, 0.3798192 ],\n",
       "       [0.92961373, 0.86449117],\n",
       "       [0.46264867, 0.43667116],\n",
       "       [0.72350993, 0.35009634],\n",
       "       [0.53801309, 0.71296541],\n",
       "       [0.87318902, 0.02194224],\n",
       "       [0.16701295, 0.28514028],\n",
       "       [0.76829603, 0.74773409],\n",
       "       [0.09687366, 0.06880753],\n",
       "       [0.42650176, 0.36411621],\n",
       "       [0.49750695, 0.96249437],\n",
       "       [0.36868191, 0.59126443],\n",
       "       [0.74365282, 0.05398065],\n",
       "       [0.07595887, 0.20082466],\n",
       "       [0.43968488, 0.49585074],\n",
       "       [0.39192947, 0.44004335],\n",
       "       [0.79791026, 0.77173824],\n",
       "       [0.22735182, 0.24026997],\n",
       "       [0.01775907, 0.1918882 ],\n",
       "       [0.78079658, 0.24471301],\n",
       "       [0.47855526, 0.55677989],\n",
       "       [0.81288966, 0.82317891],\n",
       "       [0.39458124, 0.68821814],\n",
       "       [0.00692571, 0.10963768],\n",
       "       [0.43291792, 0.73860752],\n",
       "       [0.28492536, 0.71058965],\n",
       "       [0.22347911, 0.8022063 ],\n",
       "       [0.38666398, 0.34249823],\n",
       "       [0.01087224, 0.03924617],\n",
       "       [0.74691099, 0.05100512],\n",
       "       [0.10071835, 0.13355382],\n",
       "       [0.01486257, 0.32789874],\n",
       "       [0.1838762 , 0.20558696],\n",
       "       [0.095442  , 0.88012066],\n",
       "       [0.13159885, 0.01984766],\n",
       "       [0.6432073 , 0.41022071],\n",
       "       [0.47987642, 0.4914218 ],\n",
       "       [0.56994213, 0.11071551],\n",
       "       [0.43207791, 0.41079482],\n",
       "       [0.40569624, 0.42101646],\n",
       "       [0.53067396, 0.93818002],\n",
       "       [0.39685481, 0.73587163],\n",
       "       [0.07628535, 0.19078271],\n",
       "       [0.17211856, 0.45190453],\n",
       "       [0.05281356, 0.97079944],\n",
       "       [0.33793465, 0.63104474],\n",
       "       [0.70157344, 0.55765469]])"
      ]
     },
     "execution_count": 4,
     "metadata": {},
     "output_type": "execute_result"
    }
   ],
   "source": [
    "X"
   ]
  },
  {
   "cell_type": "code",
   "execution_count": 5,
   "metadata": {},
   "outputs": [],
   "source": [
    "# prepends a constant at the start of each array element\n",
    "X = sm.add_constant(X)"
   ]
  },
  {
   "cell_type": "code",
   "execution_count": 6,
   "metadata": {},
   "outputs": [
    {
     "data": {
      "text/plain": [
       "array([[1.        , 0.01611702, 0.38819146],\n",
       "       [1.        , 0.98175279, 0.02093247],\n",
       "       [1.        , 0.81258251, 0.85303332],\n",
       "       [1.        , 0.58442998, 0.77340287],\n",
       "       [1.        , 0.05068709, 0.75980176],\n",
       "       [1.        , 0.12708844, 0.66685625],\n",
       "       [1.        , 0.90971642, 0.03556152],\n",
       "       [1.        , 0.99971082, 0.58814051],\n",
       "       [1.        , 0.70356   , 0.64846739],\n",
       "       [1.        , 0.77280896, 0.87775912],\n",
       "       [1.        , 0.49015634, 0.21110706],\n",
       "       [1.        , 0.90708719, 0.61837234],\n",
       "       [1.        , 0.46189943, 0.83719898],\n",
       "       [1.        , 0.91434979, 0.09166211],\n",
       "       [1.        , 0.51975257, 0.59841832],\n",
       "       [1.        , 0.42998995, 0.1881492 ],\n",
       "       [1.        , 0.49658006, 0.80178433],\n",
       "       [1.        , 0.66834722, 0.14260972],\n",
       "       [1.        , 0.33891063, 0.62343314],\n",
       "       [1.        , 0.49253539, 0.58726822],\n",
       "       [1.        , 0.19832441, 0.61791781],\n",
       "       [1.        , 0.67885289, 0.75258677],\n",
       "       [1.        , 0.40719566, 0.00127332],\n",
       "       [1.        , 0.92644855, 0.33180524],\n",
       "       [1.        , 0.99164811, 0.01770363],\n",
       "       [1.        , 0.7355657 , 0.86280298],\n",
       "       [1.        , 0.51608221, 0.30481661],\n",
       "       [1.        , 0.17338203, 0.74986422],\n",
       "       [1.        , 0.39733545, 0.3801625 ],\n",
       "       [1.        , 0.14377685, 0.95248585],\n",
       "       [1.        , 0.0420544 , 0.04335283],\n",
       "       [1.        , 0.80135023, 0.27270612],\n",
       "       [1.        , 0.67594247, 0.90819714],\n",
       "       [1.        , 0.54229381, 0.74926399],\n",
       "       [1.        , 0.00282382, 0.88298352],\n",
       "       [1.        , 0.70645445, 0.73150886],\n",
       "       [1.        , 0.16690664, 0.72301031],\n",
       "       [1.        , 0.3964912 , 0.69031618],\n",
       "       [1.        , 0.98813307, 0.57086451],\n",
       "       [1.        , 0.81761478, 0.70397192],\n",
       "       [1.        , 0.28587517, 0.12738635],\n",
       "       [1.        , 0.56228048, 0.39923928],\n",
       "       [1.        , 0.21979122, 0.5221849 ],\n",
       "       [1.        , 0.07618741, 0.67166397],\n",
       "       [1.        , 0.29865282, 0.41743474],\n",
       "       [1.        , 0.39002868, 0.52646036],\n",
       "       [1.        , 0.22703475, 0.4615452 ],\n",
       "       [1.        , 0.18125583, 0.81515424],\n",
       "       [1.        , 0.89746265, 0.26801312],\n",
       "       [1.        , 0.9316137 , 0.78454703],\n",
       "       [1.        , 0.89504698, 0.46942088],\n",
       "       [1.        , 0.72226635, 0.75448788],\n",
       "       [1.        , 0.95131061, 0.13282458],\n",
       "       [1.        , 0.47375359, 0.3798192 ],\n",
       "       [1.        , 0.92961373, 0.86449117],\n",
       "       [1.        , 0.46264867, 0.43667116],\n",
       "       [1.        , 0.72350993, 0.35009634],\n",
       "       [1.        , 0.53801309, 0.71296541],\n",
       "       [1.        , 0.87318902, 0.02194224],\n",
       "       [1.        , 0.16701295, 0.28514028],\n",
       "       [1.        , 0.76829603, 0.74773409],\n",
       "       [1.        , 0.09687366, 0.06880753],\n",
       "       [1.        , 0.42650176, 0.36411621],\n",
       "       [1.        , 0.49750695, 0.96249437],\n",
       "       [1.        , 0.36868191, 0.59126443],\n",
       "       [1.        , 0.74365282, 0.05398065],\n",
       "       [1.        , 0.07595887, 0.20082466],\n",
       "       [1.        , 0.43968488, 0.49585074],\n",
       "       [1.        , 0.39192947, 0.44004335],\n",
       "       [1.        , 0.79791026, 0.77173824],\n",
       "       [1.        , 0.22735182, 0.24026997],\n",
       "       [1.        , 0.01775907, 0.1918882 ],\n",
       "       [1.        , 0.78079658, 0.24471301],\n",
       "       [1.        , 0.47855526, 0.55677989],\n",
       "       [1.        , 0.81288966, 0.82317891],\n",
       "       [1.        , 0.39458124, 0.68821814],\n",
       "       [1.        , 0.00692571, 0.10963768],\n",
       "       [1.        , 0.43291792, 0.73860752],\n",
       "       [1.        , 0.28492536, 0.71058965],\n",
       "       [1.        , 0.22347911, 0.8022063 ],\n",
       "       [1.        , 0.38666398, 0.34249823],\n",
       "       [1.        , 0.01087224, 0.03924617],\n",
       "       [1.        , 0.74691099, 0.05100512],\n",
       "       [1.        , 0.10071835, 0.13355382],\n",
       "       [1.        , 0.01486257, 0.32789874],\n",
       "       [1.        , 0.1838762 , 0.20558696],\n",
       "       [1.        , 0.095442  , 0.88012066],\n",
       "       [1.        , 0.13159885, 0.01984766],\n",
       "       [1.        , 0.6432073 , 0.41022071],\n",
       "       [1.        , 0.47987642, 0.4914218 ],\n",
       "       [1.        , 0.56994213, 0.11071551],\n",
       "       [1.        , 0.43207791, 0.41079482],\n",
       "       [1.        , 0.40569624, 0.42101646],\n",
       "       [1.        , 0.53067396, 0.93818002],\n",
       "       [1.        , 0.39685481, 0.73587163],\n",
       "       [1.        , 0.07628535, 0.19078271],\n",
       "       [1.        , 0.17211856, 0.45190453],\n",
       "       [1.        , 0.05281356, 0.97079944],\n",
       "       [1.        , 0.33793465, 0.63104474],\n",
       "       [1.        , 0.70157344, 0.55765469]])"
      ]
     },
     "execution_count": 6,
     "metadata": {},
     "output_type": "execute_result"
    }
   ],
   "source": [
    "X"
   ]
  },
  {
   "cell_type": "code",
   "execution_count": 7,
   "metadata": {},
   "outputs": [],
   "source": [
    "# create an array of random numbers in a \"continuous uniform\" distribution, using \"nobs\" as \n",
    "# the number of rows & \"1\" (default) as the number of columns\n",
    "\n",
    "e = np.random.random(nobs)"
   ]
  },
  {
   "cell_type": "code",
   "execution_count": 8,
   "metadata": {},
   "outputs": [
    {
     "data": {
      "text/plain": [
       "array([0.13307893, 0.10740256, 0.94268699, 0.08740245, 0.33817853,\n",
       "       0.65588332, 0.9881191 , 0.1499123 , 0.62252366, 0.12667646,\n",
       "       0.0582481 , 0.0929962 , 0.61750426, 0.53803221, 0.65700206,\n",
       "       0.35364131, 0.94140617, 0.08245514, 0.59798598, 0.12151887,\n",
       "       0.36827993, 0.56827169, 0.80416289, 0.20904383, 0.55146141,\n",
       "       0.24141753, 0.13661559, 0.85976456, 0.15631546, 0.24657128,\n",
       "       0.73042855, 0.96896359, 0.52549471, 0.63776562, 0.24440539,\n",
       "       0.48675706, 0.5511759 , 0.50343865, 0.11169559, 0.00464227,\n",
       "       0.4666079 , 0.38083661, 0.02277022, 0.80484062, 0.55230943,\n",
       "       0.97343407, 0.99806644, 0.57497296, 0.9835536 , 0.20584859,\n",
       "       0.42378869, 0.45444695, 0.72107082, 0.3021556 , 0.60166602,\n",
       "       0.34876347, 0.35956076, 0.0052646 , 0.39484934, 0.34441708,\n",
       "       0.09263018, 0.28771657, 0.88503621, 0.86250969, 0.81514586,\n",
       "       0.70494355, 0.45938654, 0.87600211, 0.67027787, 0.66355958,\n",
       "       0.70691459, 0.44804307, 0.80224825, 0.18213907, 0.03264292,\n",
       "       0.76788801, 0.73588535, 0.39368956, 0.97029577, 0.47636022,\n",
       "       0.83254194, 0.3430749 , 0.22265587, 0.50461672, 0.61590359,\n",
       "       0.22427952, 0.52142603, 0.99908817, 0.69695773, 0.60926443,\n",
       "       0.35862147, 0.53246103, 0.75843471, 0.76995705, 0.91421448,\n",
       "       0.30218407, 0.46877491, 0.7839246 , 0.00832541, 0.39571781])"
      ]
     },
     "execution_count": 8,
     "metadata": {},
     "output_type": "execute_result"
    }
   ],
   "source": [
    "e"
   ]
  },
  {
   "cell_type": "code",
   "execution_count": 9,
   "metadata": {},
   "outputs": [
    {
     "name": "stdout",
     "output_type": "stream",
     "text": [
      "           a\n",
      "0   0.133079\n",
      "1   0.107403\n",
      "2   0.942687\n",
      "3   0.087402\n",
      "4   0.338179\n",
      "..       ...\n",
      "95  0.302184\n",
      "96  0.468775\n",
      "97  0.783925\n",
      "98  0.008325\n",
      "99  0.395718\n",
      "\n",
      "[100 rows x 1 columns]\n"
     ]
    }
   ],
   "source": [
    "# visually see the distribution of \"e\"\n",
    "\n",
    "import pandas as pd\n",
    "\n",
    "# first convert \"e\" to a dataframe\n",
    "dfe = pd.DataFrame(e,columns=['a'])\n",
    "print(dfe)"
   ]
  },
  {
   "cell_type": "code",
   "execution_count": 10,
   "metadata": {},
   "outputs": [
    {
     "data": {
      "text/plain": [
       "<AxesSubplot:xlabel='a'>"
      ]
     },
     "execution_count": 10,
     "metadata": {},
     "output_type": "execute_result"
    },
    {
     "data": {
      "image/png": "[encoded data removed]",
      "text/plain": [
       "<Figure size 432x288 with 1 Axes>"
      ]
     },
     "metadata": {
      "needs_background": "light"
     },
     "output_type": "display_data"
    }
   ],
   "source": [
    "# then visualize \"e\" using \"dfe\"\n",
    "\n",
    "import seaborn as sns\n",
    "sns.distplot(dfe[\"a\"])"
   ]
  },
  {
   "cell_type": "code",
   "execution_count": 11,
   "metadata": {},
   "outputs": [
    {
     "name": "stdout",
     "output_type": "stream",
     "text": [
      "      0         1         2\n",
      "0   1.0  0.016117  0.388191\n",
      "1   1.0  0.981753  0.020932\n",
      "2   1.0  0.812583  0.853033\n",
      "3   1.0  0.584430  0.773403\n",
      "4   1.0  0.050687  0.759802\n",
      "..  ...       ...       ...\n",
      "95  1.0  0.076285  0.190783\n",
      "96  1.0  0.172119  0.451905\n",
      "97  1.0  0.052814  0.970799\n",
      "98  1.0  0.337935  0.631045\n",
      "99  1.0  0.701573  0.557655\n",
      "\n",
      "[100 rows x 3 columns]\n"
     ]
    }
   ],
   "source": [
    "# visually see the distribution of \"X\"\n",
    "\n",
    "# first convert \"X\" to a dataframe\n",
    "dfX = pd.DataFrame(X)\n",
    "print(dfX)"
   ]
  },
  {
   "cell_type": "code",
   "execution_count": 12,
   "metadata": {},
   "outputs": [
    {
     "name": "stderr",
     "output_type": "stream",
     "text": [
      "C:\\Users\\Anthony\\Anaconda3\\lib\\site-packages\\statsmodels\\nonparametric\\kde.py:487: RuntimeWarning: invalid value encountered in true_divide\n",
      "  binned = fast_linbin(X, a, b, gridsize) / (delta * nobs)\n",
      "C:\\Users\\Anthony\\Anaconda3\\lib\\site-packages\\statsmodels\\nonparametric\\kdetools.py:34: RuntimeWarning: invalid value encountered in double_scalars\n",
      "  FAC1 = 2*(np.pi*bw/RANGE)**2\n"
     ]
    },
    {
     "data": {
      "text/plain": [
       "<AxesSubplot:xlabel='2'>"
      ]
     },
     "execution_count": 12,
     "metadata": {},
     "output_type": "execute_result"
    },
    {
     "data": {
      "image/png": "[encoded data removed]",
      "text/plain": [
       "<Figure size 504x504 with 4 Axes>"
      ]
     },
     "metadata": {
      "needs_background": "light"
     },
     "output_type": "display_data"
    }
   ],
   "source": [
    "# then visualize \"X\" using \"dfX\"\n",
    "\n",
    "import matplotlib.pyplot as plt\n",
    "f, axes = plt.subplots(2,2,figsize=(7,7), sharex=True)\n",
    "sns.distplot(dfX[0], color=\"skyblue\", ax=axes[0,0])\n",
    "sns.distplot(dfX[1], color=\"olive\", ax=axes[0,1])\n",
    "sns.distplot(dfX[2], color=\"gold\", ax=axes[1,0])"
   ]
  },
  {
   "cell_type": "code",
   "execution_count": 13,
   "metadata": {},
   "outputs": [
    {
     "data": {
      "text/plain": [
       "array([1.32878636, 1.21604407, 2.4504619 , 1.53254688, 1.72314812,\n",
       "       2.00202029, 2.09687151, 1.54395364, 2.01711336, 1.64283692,\n",
       "       1.21281726, 1.49289109, 2.08229369, 1.67529824, 2.00818648,\n",
       "       1.4907149 , 2.39195634, 1.22059472, 1.94359362, 1.46440652,\n",
       "       1.69707128, 2.01245037, 1.84551912, 1.46759131, 1.65947803,\n",
       "       1.74637559, 1.34063211, 2.25203488, 1.38613026, 1.73719189,\n",
       "       1.7563104 , 2.18545167, 2.04718753, 2.06662699, 1.68617953,\n",
       "       1.92315694, 1.92937172, 1.88824586, 1.49594115, 1.4383897 ,\n",
       "       1.55888859, 1.6366843 , 1.30584179, 2.14829135, 1.79089208,\n",
       "       2.27566712, 2.25154251, 2.00067566, 2.20730642, 1.69128348,\n",
       "       1.74800382, 1.90391752, 1.88261417, 1.53944056, 2.12687298,\n",
       "       1.61336392, 1.60695992, 1.41554862, 1.49313937, 1.50368852,\n",
       "       1.54332683, 1.3318077 , 2.10974449, 2.39350757, 2.14764627,\n",
       "       1.80629915, 1.56739476, 2.16789596, 1.92949249, 2.12921973,\n",
       "       1.84978476, 1.54576307, 2.00268442, 1.50838454, 1.52552134,\n",
       "       2.1514552 , 1.79139676, 1.80628511, 2.35408313, 1.89981128,\n",
       "       2.04245745, 1.36378522, 1.32284953, 1.58146547, 1.78133922,\n",
       "       1.34546062, 1.97103056, 2.02217189, 1.96638882, 1.90296298,\n",
       "       1.47097344, 1.78106623, 2.00951257, 2.29211445, 2.32183577,\n",
       "       1.40520396, 1.71193903, 2.27460568, 1.35764124, 1.7447025 ])"
      ]
     },
     "execution_count": 13,
     "metadata": {},
     "output_type": "execute_result"
    }
   ],
   "source": [
    "beta = [1, .1, .5]\n",
    "y = np.dot(X, beta) + e\n",
    "y"
   ]
  },
  {
   "cell_type": "code",
   "execution_count": 14,
   "metadata": {},
   "outputs": [
    {
     "data": {
      "text/plain": [
       "<AxesSubplot:xlabel='a'>"
      ]
     },
     "execution_count": 14,
     "metadata": {},
     "output_type": "execute_result"
    },
    {
     "data": {
      "image/png": "[encoded data removed]",
      "text/plain": [
       "<Figure size 432x288 with 1 Axes>"
      ]
     },
     "metadata": {
      "needs_background": "light"
     },
     "output_type": "display_data"
    }
   ],
   "source": [
    "# Visualize y\n",
    "\n",
    "# first convert \"e\" to a dataframe\n",
    "\n",
    "dfy = pd.DataFrame(y,columns=['a'])\n",
    "sns.distplot(dfy[\"a\"])"
   ]
  },
  {
   "cell_type": "code",
   "execution_count": 15,
   "metadata": {},
   "outputs": [],
   "source": [
    "# fit regression model\n",
    "\n",
    "results = sm.OLS(y,X).fit()"
   ]
  },
  {
   "cell_type": "code",
   "execution_count": 16,
   "metadata": {},
   "outputs": [
    {
     "name": "stdout",
     "output_type": "stream",
     "text": [
      "                            OLS Regression Results                            \n",
      "==============================================================================\n",
      "Dep. Variable:                      y   R-squared:                       0.186\n",
      "Model:                            OLS   Adj. R-squared:                  0.169\n",
      "Method:                 Least Squares   F-statistic:                     11.06\n",
      "Date:                Sat, 30 Jan 2021   Prob (F-statistic):           4.69e-05\n",
      "Time:                        14:16:24   Log-Likelihood:                -15.630\n",
      "No. Observations:                 100   AIC:                             37.26\n",
      "Df Residuals:                      97   BIC:                             45.08\n",
      "Df Model:                           2                                         \n",
      "Covariance Type:            nonrobust                                         \n",
      "==============================================================================\n",
      "                 coef    std err          t      P>|t|      [0.025      0.975]\n",
      "------------------------------------------------------------------------------\n",
      "const          1.5704      0.074     21.354      0.000       1.424       1.716\n",
      "x1            -0.0296      0.098     -0.304      0.762      -0.223       0.164\n",
      "x2             0.4766      0.101      4.697      0.000       0.275       0.678\n",
      "==============================================================================\n",
      "Omnibus:                       16.587   Durbin-Watson:                   1.942\n",
      "Prob(Omnibus):                  0.000   Jarque-Bera (JB):                4.623\n",
      "Skew:                           0.088   Prob(JB):                       0.0991\n",
      "Kurtosis:                       1.962   Cond. No.                         5.16\n",
      "==============================================================================\n",
      "\n",
      "Warnings:\n",
      "[1] Standard Errors assume that the covariance matrix of the errors is correctly specified.\n"
     ]
    }
   ],
   "source": [
    "# inspect the results\n",
    "print(results.summary())"
   ]
  }
 ],
 "metadata": {
  "kernelspec": {
   "display_name": "Python 3",
   "language": "python",
   "name": "python3"
  },
  "language_info": {
   "codemirror_mode": {
    "name": "ipython",
    "version": 3
   },
   "file_extension": ".py",
   "mimetype": "text/x-python",
   "name": "python",
   "nbconvert_exporter": "python",
   "pygments_lexer": "ipython3",
   "version": "3.7.9"
  }
 },
 "nbformat": 4,
 "nbformat_minor": 4
}
